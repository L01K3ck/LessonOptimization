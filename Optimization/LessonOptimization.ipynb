{
 "cells": [
  {
   "cell_type": "markdown",
   "id": "de1842cf-2b00-482a-94dd-cec4098409a5",
   "metadata": {},
   "source": [
    "# Задание 1"
   ]
  },
  {
   "cell_type": "code",
   "execution_count": 4,
   "id": "327b36cc-a586-43e4-a877-0dc1d5c8cc63",
   "metadata": {},
   "outputs": [
    {
     "data": {
      "text/plain": [
       "(-0.984188231211512, 2.3303684533047426)"
      ]
     },
     "execution_count": 4,
     "metadata": {},
     "output_type": "execute_result"
    }
   ],
   "source": [
    "from scipy.optimize import brentq\n",
    "f = lambda x: x + 1 + (x-3)**-3\n",
    "brentq(f, -2, -0.5), brentq(f, 0, 2.99)"
   ]
  },
  {
   "cell_type": "markdown",
   "id": "908e5484-ef53-4c57-a4ec-4b27ea9032b3",
   "metadata": {},
   "source": [
    "# Задание 2"
   ]
  },
  {
   "cell_type": "code",
   "execution_count": 58,
   "id": "da350f22-a9ed-4d0a-a6fc-815c109198e6",
   "metadata": {},
   "outputs": [
    {
     "ename": "ValueError",
     "evalue": "f(a) and f(b) must have different signs",
     "output_type": "error",
     "traceback": [
      "\u001b[1;31m---------------------------------------------------------------------------\u001b[0m",
      "\u001b[1;31mValueError\u001b[0m                                Traceback (most recent call last)",
      "Cell \u001b[1;32mIn[58], line 9\u001b[0m\n\u001b[0;32m      7\u001b[0m lower_bounds \u001b[38;5;241m=\u001b[39m x[np\u001b[38;5;241m.\u001b[39msign(f(x[\u001b[38;5;241m0\u001b[39m:])) \u001b[38;5;241m!=\u001b[39m np\u001b[38;5;241m.\u001b[39msign(f(x[:\u001b[38;5;241m1\u001b[39m]))]\n\u001b[0;32m      8\u001b[0m \u001b[38;5;66;03m# Brent's method\u001b[39;00m\n\u001b[1;32m----> 9\u001b[0m brent_roots \u001b[38;5;241m=\u001b[39m np\u001b[38;5;241m.\u001b[39marray([\u001b[43mbrentq\u001b[49m\u001b[43m(\u001b[49m\u001b[43mf\u001b[49m\u001b[43m,\u001b[49m\u001b[43m \u001b[49m\u001b[43ma\u001b[49m\u001b[43m,\u001b[49m\u001b[43m \u001b[49m\u001b[43ma\u001b[49m\u001b[38;5;241;43m+\u001b[39;49m\u001b[43mdx\u001b[49m\u001b[43m)\u001b[49m \u001b[38;5;28;01mfor\u001b[39;00m a \u001b[38;5;129;01min\u001b[39;00m lower_bounds])\n\u001b[0;32m     11\u001b[0m \u001b[38;5;66;03m# Newton's method: requires first derivative of f(x)\u001b[39;00m\n\u001b[0;32m     12\u001b[0m fp \u001b[38;5;241m=\u001b[39m \u001b[38;5;28;01mlambda\u001b[39;00m x: np\u001b[38;5;241m.\u001b[39mcos(\u001b[38;5;241m3\u001b[39m\u001b[38;5;241m/\u001b[39mx) \u001b[38;5;241m+\u001b[39m \u001b[38;5;241m3\u001b[39m\u001b[38;5;241m/\u001b[39mx \u001b[38;5;241m*\u001b[39m np\u001b[38;5;241m.\u001b[39msin(\u001b[38;5;241m3\u001b[39m\u001b[38;5;241m/\u001b[39mx)\n",
      "File \u001b[1;32m~\\AppData\\Local\\Programs\\Python\\Python312\\Lib\\site-packages\\scipy\\optimize\\_zeros_py.py:806\u001b[0m, in \u001b[0;36mbrentq\u001b[1;34m(f, a, b, args, xtol, rtol, maxiter, full_output, disp)\u001b[0m\n\u001b[0;32m    804\u001b[0m     \u001b[38;5;28;01mraise\u001b[39;00m \u001b[38;5;167;01mValueError\u001b[39;00m(\u001b[38;5;124mf\u001b[39m\u001b[38;5;124m\"\u001b[39m\u001b[38;5;124mrtol too small (\u001b[39m\u001b[38;5;132;01m{\u001b[39;00mrtol\u001b[38;5;132;01m:\u001b[39;00m\u001b[38;5;124mg\u001b[39m\u001b[38;5;132;01m}\u001b[39;00m\u001b[38;5;124m < \u001b[39m\u001b[38;5;132;01m{\u001b[39;00m_rtol\u001b[38;5;132;01m:\u001b[39;00m\u001b[38;5;124mg\u001b[39m\u001b[38;5;132;01m}\u001b[39;00m\u001b[38;5;124m)\u001b[39m\u001b[38;5;124m\"\u001b[39m)\n\u001b[0;32m    805\u001b[0m f \u001b[38;5;241m=\u001b[39m _wrap_nan_raise(f)\n\u001b[1;32m--> 806\u001b[0m r \u001b[38;5;241m=\u001b[39m \u001b[43m_zeros\u001b[49m\u001b[38;5;241;43m.\u001b[39;49m\u001b[43m_brentq\u001b[49m\u001b[43m(\u001b[49m\u001b[43mf\u001b[49m\u001b[43m,\u001b[49m\u001b[43m \u001b[49m\u001b[43ma\u001b[49m\u001b[43m,\u001b[49m\u001b[43m \u001b[49m\u001b[43mb\u001b[49m\u001b[43m,\u001b[49m\u001b[43m \u001b[49m\u001b[43mxtol\u001b[49m\u001b[43m,\u001b[49m\u001b[43m \u001b[49m\u001b[43mrtol\u001b[49m\u001b[43m,\u001b[49m\u001b[43m \u001b[49m\u001b[43mmaxiter\u001b[49m\u001b[43m,\u001b[49m\u001b[43m \u001b[49m\u001b[43margs\u001b[49m\u001b[43m,\u001b[49m\u001b[43m \u001b[49m\u001b[43mfull_output\u001b[49m\u001b[43m,\u001b[49m\u001b[43m \u001b[49m\u001b[43mdisp\u001b[49m\u001b[43m)\u001b[49m\n\u001b[0;32m    807\u001b[0m \u001b[38;5;28;01mreturn\u001b[39;00m results_c(full_output, r, \u001b[38;5;124m\"\u001b[39m\u001b[38;5;124mbrentq\u001b[39m\u001b[38;5;124m\"\u001b[39m)\n",
      "\u001b[1;31mValueError\u001b[0m: f(a) and f(b) must have different signs"
     ]
    }
   ],
   "source": [
    "import numpy as np\n",
    "from scipy.optimize import brentq, newton\n",
    "\n",
    "f = lambda x: 0.2 + x*np.cos(3/x)\n",
    "\n",
    "x,dx = np.linspace(-1, 1, 1000, retstep=True)\n",
    "lower_bounds = x[np.sign(f(x[0:])) != np.sign(f(x[:1]))]\n",
    "# Brent's method\n",
    "brent_roots = np.array([brentq(f, a, a+dx) for a in lower_bounds])\n",
    "\n",
    "# Newton's method: requires first derivative of f(x)\n",
    "fp = lambda x: np.cos(3/x) + 3/x * np.sin(3/x)\n",
    "newton_roots = np.array([newton(f, a, fp) for a in lower_bounds])\n",
    "print('Roots of f(x) = 1/5 + x.cos(3/x):')\n",
    "print('{:11s} {:11s}'.format('Brent', 'Newton'))\n",
    "r = np.vstack((brent_roots, newton_roots)).T\n",
    "for br, nr in r:\n",
    "    print('{:11.8f} {:11.8f}'.format(br,nr))"
   ]
  }
 ],
 "metadata": {
  "kernelspec": {
   "display_name": "Python 3 (ipykernel)",
   "language": "python",
   "name": "python3"
  },
  "language_info": {
   "codemirror_mode": {
    "name": "ipython",
    "version": 3
   },
   "file_extension": ".py",
   "mimetype": "text/x-python",
   "name": "python",
   "nbconvert_exporter": "python",
   "pygments_lexer": "ipython3",
   "version": "3.12.6"
  }
 },
 "nbformat": 4,
 "nbformat_minor": 5
}
